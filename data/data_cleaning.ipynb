{
 "cells": [
  {
   "cell_type": "code",
   "execution_count": null,
   "id": "11791e86",
   "metadata": {
    "ExecuteTime": {
     "end_time": "2024-05-09T20:10:45.115813Z",
     "start_time": "2024-05-09T20:10:42.511718Z"
    }
   },
   "outputs": [],
   "source": [
    "import pandas as pd"
   ]
  },
  {
   "cell_type": "code",
   "execution_count": null,
   "id": "4dd62515",
   "metadata": {
    "ExecuteTime": {
     "end_time": "2024-05-09T20:46:07.460335Z",
     "start_time": "2024-05-09T20:46:07.399022Z"
    }
   },
   "outputs": [],
   "source": [
    "dirty_df = pd.read_csv('discord_users.csv')\n",
    "dirty_df"
   ]
  },
  {
   "cell_type": "code",
   "execution_count": null,
   "id": "1666c207",
   "metadata": {
    "ExecuteTime": {
     "end_time": "2024-05-09T20:46:08.075574Z",
     "start_time": "2024-05-09T20:46:08.067159Z"
    }
   },
   "outputs": [],
   "source": [
    "dirty_df.dtypes"
   ]
  },
  {
   "cell_type": "code",
   "execution_count": null,
   "id": "a9d2fa59",
   "metadata": {
    "ExecuteTime": {
     "end_time": "2024-05-09T20:46:08.478757Z",
     "start_time": "2024-05-09T20:46:08.457746Z"
    }
   },
   "outputs": [],
   "source": [
    "dirty_df['joined_at'] = pd.to_datetime(dirty_df['join_date'])\n",
    "dirty_df['created_at'] = pd.to_datetime(dirty_df['created_at'])\n",
    "dirty_df.drop('join_date', axis=1, inplace=True)\n",
    "dirty_df.dtypes"
   ]
  },
  {
   "cell_type": "code",
   "execution_count": null,
   "id": "efc99a5d",
   "metadata": {
    "ExecuteTime": {
     "end_time": "2024-05-09T20:46:09.836881Z",
     "start_time": "2024-05-09T20:46:09.807043Z"
    }
   },
   "outputs": [],
   "source": [
    "#show all rows where 'role' column is Nan\n",
    "dirty_df[dirty_df['roles'].isna()]\n",
    "\n",
    "#"
   ]
  },
  {
   "cell_type": "code",
   "execution_count": null,
   "id": "7b4159a6",
   "metadata": {},
   "outputs": [],
   "source": [
    "continents = ['Africa', 'Asia', 'Europe', 'North America', 'South America', 'Australia', 'Oceania']\n",
    "dirty_df['Continent'] = 'Unknown'\n",
    "\n",
    "for continent in continents:\n",
    "    mask = dirty_df['roles'].str.contains(continent, na=False)\n",
    "    dirty_df.loc[mask, 'Continent'] = continent\n",
    "\n",
    "dirty_df "
   ]
  },
  {
   "cell_type": "code",
   "execution_count": null,
   "id": "2352996d",
   "metadata": {},
   "outputs": [],
   "source": [
    "dirty_df[dirty_df['Continent'] == 'Unknown']"
   ]
  },
  {
   "cell_type": "code",
   "execution_count": null,
   "id": "d7e10270",
   "metadata": {},
   "outputs": [],
   "source": [
    "#dirty_df.resample('M', on='joined_at').size()"
   ]
  },
  {
   "cell_type": "code",
   "execution_count": null,
   "id": "2283ede1",
   "metadata": {
    "ExecuteTime": {
     "end_time": "2024-05-09T20:46:10.444937Z",
     "start_time": "2024-05-09T20:46:10.430556Z"
    }
   },
   "outputs": [],
   "source": [
    "dirty_df.duplicated().any()"
   ]
  },
  {
   "cell_type": "code",
   "execution_count": null,
   "id": "81e3b6e0",
   "metadata": {
    "ExecuteTime": {
     "end_time": "2024-05-09T20:47:34.541049Z",
     "start_time": "2024-05-09T20:47:34.478148Z"
    }
   },
   "outputs": [],
   "source": [
    "dirty_df.to_csv('cleaned_users.csv', index=False)"
   ]
  },
  {
   "cell_type": "code",
   "execution_count": null,
   "id": "4bdd25c3",
   "metadata": {
    "ExecuteTime": {
     "end_time": "2024-05-09T20:48:40.095140Z",
     "start_time": "2024-05-09T20:48:39.973192Z"
    }
   },
   "outputs": [],
   "source": [
    "messages_df = pd.read_csv('discord_messages.csv')\n",
    "messages_df"
   ]
  },
  {
   "cell_type": "markdown",
   "id": "c66777b0",
   "metadata": {},
   "source": [
    "I am using cleaned_content cuz it converts like the userid and channel id and stuff like that so it is better for presentig. i.e if we are"
   ]
  },
  {
   "cell_type": "code",
   "execution_count": null,
   "id": "eda29752",
   "metadata": {
    "ExecuteTime": {
     "end_time": "2024-05-09T21:00:50.859188Z",
     "start_time": "2024-05-09T21:00:50.844467Z"
    }
   },
   "outputs": [],
   "source": [
    "messages_df.dtypes"
   ]
  },
  {
   "cell_type": "code",
   "execution_count": null,
   "id": "e269375e",
   "metadata": {
    "ExecuteTime": {
     "end_time": "2024-05-09T21:01:51.672419Z",
     "start_time": "2024-05-09T21:01:51.629507Z"
    }
   },
   "outputs": [],
   "source": [
    "messages_df['edited_at'] = pd.to_datetime(messages_df['edited_at'])\n",
    "messages_df['created_at'] = pd.to_datetime(messages_df['created_at'])\n",
    "messages_df.drop('content', axis=1, inplace=True)"
   ]
  },
  {
   "cell_type": "code",
   "execution_count": null,
   "id": "8efd7ce5",
   "metadata": {
    "ExecuteTime": {
     "end_time": "2024-05-09T21:03:15.754856Z",
     "start_time": "2024-05-09T21:03:15.685140Z"
    }
   },
   "outputs": [],
   "source": [
    "messages_df.duplicated().any()"
   ]
  },
  {
   "cell_type": "code",
   "execution_count": null,
   "id": "3b658dbe",
   "metadata": {
    "ExecuteTime": {
     "end_time": "2024-05-09T21:04:03.082615Z",
     "start_time": "2024-05-09T21:04:03.039991Z"
    }
   },
   "outputs": [],
   "source": [
    "messages_df = messages_df[messages_df['channel_name'] != 'test']"
   ]
  },
  {
   "cell_type": "code",
   "execution_count": null,
   "id": "91ed9001",
   "metadata": {
    "ExecuteTime": {
     "end_time": "2024-05-09T21:04:09.829748Z",
     "start_time": "2024-05-09T21:04:09.796278Z"
    }
   },
   "outputs": [],
   "source": [
    "messages_df"
   ]
  },
  {
   "cell_type": "code",
   "execution_count": null,
   "id": "c548023b",
   "metadata": {
    "ExecuteTime": {
     "end_time": "2024-05-09T21:05:32.697215Z",
     "start_time": "2024-05-09T21:05:32.571769Z"
    }
   },
   "outputs": [],
   "source": [
    "messages_df.to_csv('cleaned_messages.csv', index=False)"
   ]
  },
  {
   "cell_type": "code",
   "execution_count": null,
   "id": "b6990ad3",
   "metadata": {},
   "outputs": [],
   "source": []
  }
 ],
 "metadata": {
  "hide_input": false,
  "kernelspec": {
   "display_name": "Python 3",
   "language": "python",
   "name": "python3"
  },
  "language_info": {
   "codemirror_mode": {
    "name": "ipython",
    "version": 3
   },
   "file_extension": ".py",
   "mimetype": "text/x-python",
   "name": "python",
   "nbconvert_exporter": "python",
   "pygments_lexer": "ipython3",
   "version": "3.9.5"
  },
  "varInspector": {
   "cols": {
    "lenName": 16,
    "lenType": 16,
    "lenVar": 40
   },
   "kernels_config": {
    "python": {
     "delete_cmd_postfix": "",
     "delete_cmd_prefix": "del ",
     "library": "var_list.py",
     "varRefreshCmd": "print(var_dic_list())"
    },
    "r": {
     "delete_cmd_postfix": ") ",
     "delete_cmd_prefix": "rm(",
     "library": "var_list.r",
     "varRefreshCmd": "cat(var_dic_list()) "
    }
   },
   "types_to_exclude": [
    "module",
    "function",
    "builtin_function_or_method",
    "instance",
    "_Feature"
   ],
   "window_display": false
  }
 },
 "nbformat": 4,
 "nbformat_minor": 5
}
